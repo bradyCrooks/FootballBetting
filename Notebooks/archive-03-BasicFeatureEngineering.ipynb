{
 "cells": [
  {
   "cell_type": "code",
   "execution_count": 29,
   "id": "8acc0470-a593-494d-884e-e13e9ac1eed6",
   "metadata": {},
   "outputs": [],
   "source": [
    "import sys\n",
    "from sklearn.metrics import roc_auc_score, log_loss\n",
    "from sklearn.model_selection import train_test_split\n",
    "import pandas as pd\n",
    "import xgboost as xgb\n",
    "\n",
    "#sys.path.append(\"~/FootballBetting/FootballBetting/\")\n",
    "\n",
    "season_dir='~/FootballBetting/Data/Raw'\n",
    "eos_stats_path='~/FootballBetting/Data/EosStats/SeasonSummaries.csv'"
   ]
  },
  {
   "cell_type": "code",
   "execution_count": 11,
   "id": "bcd2565e-0eba-4b06-ba8a-7d244d326f1f",
   "metadata": {},
   "outputs": [],
   "source": [
    "import FootballBetting"
   ]
  },
  {
   "cell_type": "code",
   "execution_count": 12,
   "id": "e13a8ca2-0d51-4f52-b6b0-087b14786730",
   "metadata": {},
   "outputs": [],
   "source": [
    "from FootballBetting.get_season_stats import GetTeamStats"
   ]
  },
  {
   "cell_type": "code",
   "execution_count": 15,
   "id": "cd1362a4-68e0-42ac-bfa9-92c9e0adab0b",
   "metadata": {},
   "outputs": [
    {
     "ename": "TypeError",
     "evalue": "read_csv() got an unexpected keyword argument 'squeeze'",
     "output_type": "error",
     "traceback": [
      "\u001b[0;31m---------------------------------------------------------------------------\u001b[0m",
      "\u001b[0;31mTypeError\u001b[0m                                 Traceback (most recent call last)",
      "Cell \u001b[0;32mIn[15], line 1\u001b[0m\n\u001b[0;32m----> 1\u001b[0m E1_1718 \u001b[38;5;241m=\u001b[39m \u001b[43mGetTeamStats\u001b[49m\u001b[43m(\u001b[49m\u001b[38;5;124;43m'\u001b[39;49m\u001b[38;5;124;43mE1\u001b[39;49m\u001b[38;5;124;43m'\u001b[39;49m\u001b[43m,\u001b[49m\u001b[43m \u001b[49m\u001b[38;5;124;43m'\u001b[39;49m\u001b[38;5;124;43m1718\u001b[39;49m\u001b[38;5;124;43m'\u001b[39;49m\u001b[43m,\u001b[49m\u001b[43m \u001b[49m\u001b[43mseason_dir\u001b[49m\u001b[43m,\u001b[49m\u001b[43m \u001b[49m\u001b[43meos_stats_path\u001b[49m\u001b[43m,\u001b[49m\u001b[43m \u001b[49m\u001b[43minclude_odds\u001b[49m\u001b[38;5;241;43m=\u001b[39;49m\u001b[38;5;28;43;01mTrue\u001b[39;49;00m\u001b[43m)\u001b[49m\n",
      "File \u001b[0;32m~/FootballBetting/FootballBetting/get_season_stats.py:199\u001b[0m, in \u001b[0;36mGetTeamStats.__init__\u001b[0;34m(self, league, season, season_dir, eos_stats_path, include_odds)\u001b[0m\n\u001b[1;32m    198\u001b[0m \u001b[38;5;28;01mdef\u001b[39;00m \u001b[38;5;21m__init__\u001b[39m(\u001b[38;5;28mself\u001b[39m, league, season, season_dir, eos_stats_path, include_odds \u001b[38;5;241m=\u001b[39m \u001b[38;5;28;01mFalse\u001b[39;00m):\n\u001b[0;32m--> 199\u001b[0m     \u001b[43mTeamStats\u001b[49m\u001b[38;5;241;43m.\u001b[39;49m\u001b[38;5;21;43m__init__\u001b[39;49m\u001b[43m(\u001b[49m\u001b[38;5;28;43mself\u001b[39;49m\u001b[43m,\u001b[49m\u001b[43m \u001b[49m\u001b[43mleague\u001b[49m\u001b[43m,\u001b[49m\u001b[43m \u001b[49m\u001b[43mseason\u001b[49m\u001b[43m,\u001b[49m\u001b[43m \u001b[49m\u001b[43mseason_dir\u001b[49m\u001b[43m,\u001b[49m\u001b[43m \u001b[49m\u001b[43meos_stats_path\u001b[49m\u001b[43m)\u001b[49m\n\u001b[1;32m    201\u001b[0m     \u001b[38;5;28mself\u001b[39m\u001b[38;5;241m.\u001b[39minclude_odds \u001b[38;5;241m=\u001b[39m include_odds\n\u001b[1;32m    202\u001b[0m     \u001b[38;5;28mself\u001b[39m\u001b[38;5;241m.\u001b[39mbasicInfo \u001b[38;5;241m=\u001b[39m [\u001b[38;5;124m\"\u001b[39m\u001b[38;5;124mDate\u001b[39m\u001b[38;5;124m\"\u001b[39m, \u001b[38;5;124m\"\u001b[39m\u001b[38;5;124mHomeTeam\u001b[39m\u001b[38;5;124m\"\u001b[39m, \u001b[38;5;124m\"\u001b[39m\u001b[38;5;124mAwayTeam\u001b[39m\u001b[38;5;124m\"\u001b[39m, \u001b[38;5;124m\"\u001b[39m\u001b[38;5;124mFTR\u001b[39m\u001b[38;5;124m\"\u001b[39m] \n",
      "File \u001b[0;32m~/FootballBetting/FootballBetting/get_season_stats.py:39\u001b[0m, in \u001b[0;36mTeamStats.__init__\u001b[0;34m(self, league, season, season_dir, eos_stats_path)\u001b[0m\n\u001b[1;32m     36\u001b[0m \u001b[38;5;28mself\u001b[39m\u001b[38;5;241m.\u001b[39mseason_path \u001b[38;5;241m=\u001b[39m \u001b[38;5;124m\"\u001b[39m\u001b[38;5;132;01m{}\u001b[39;00m\u001b[38;5;130;01m\\\\\u001b[39;00m\u001b[38;5;132;01m{}\u001b[39;00m\u001b[38;5;124m_\u001b[39m\u001b[38;5;132;01m{}\u001b[39;00m\u001b[38;5;124m.csv\u001b[39m\u001b[38;5;124m\"\u001b[39m\u001b[38;5;241m.\u001b[39mformat(season_dir, league, season)\n\u001b[1;32m     37\u001b[0m \u001b[38;5;28mself\u001b[39m\u001b[38;5;241m.\u001b[39meos_stats \u001b[38;5;241m=\u001b[39m pd\u001b[38;5;241m.\u001b[39mread_csv(eos_stats_path)\n\u001b[0;32m---> 39\u001b[0m \u001b[38;5;28mself\u001b[39m\u001b[38;5;241m.\u001b[39mteams \u001b[38;5;241m=\u001b[39m \u001b[38;5;28;43mself\u001b[39;49m\u001b[38;5;241;43m.\u001b[39;49m\u001b[43m_teams\u001b[49m\u001b[43m(\u001b[49m\u001b[43m)\u001b[49m\n\u001b[1;32m     40\u001b[0m \u001b[38;5;28mself\u001b[39m\u001b[38;5;241m.\u001b[39mprev_season \u001b[38;5;241m=\u001b[39m \u001b[38;5;28mself\u001b[39m\u001b[38;5;241m.\u001b[39m_prevSeason()\n",
      "File \u001b[0;32m~/FootballBetting/FootballBetting/get_season_stats.py:52\u001b[0m, in \u001b[0;36mTeamStats._teams\u001b[0;34m(self)\u001b[0m\n\u001b[1;32m     44\u001b[0m \u001b[38;5;250m\u001b[39m\u001b[38;5;124;03m\"\"\"Internal method to get unique list of teams\u001b[39;00m\n\u001b[1;32m     45\u001b[0m \u001b[38;5;124;03m\u001b[39;00m\n\u001b[1;32m     46\u001b[0m \u001b[38;5;124;03mreturns: \u001b[39;00m\n\u001b[1;32m     47\u001b[0m \u001b[38;5;124;03m    teams (numpy.ndarray): unique series of teams for selected league \u001b[39;00m\n\u001b[1;32m     48\u001b[0m \u001b[38;5;124;03m                            and season\u001b[39;00m\n\u001b[1;32m     49\u001b[0m \u001b[38;5;124;03m\"\"\"\u001b[39;00m\n\u001b[1;32m     51\u001b[0m \u001b[38;5;66;03m# Get series of home team column from season data\u001b[39;00m\n\u001b[0;32m---> 52\u001b[0m homeTeams \u001b[38;5;241m=\u001b[39m \u001b[43mpd\u001b[49m\u001b[38;5;241;43m.\u001b[39;49m\u001b[43mread_csv\u001b[49m\u001b[43m(\u001b[49m\u001b[38;5;28;43mself\u001b[39;49m\u001b[38;5;241;43m.\u001b[39;49m\u001b[43mseason_path\u001b[49m\u001b[43m,\u001b[49m\u001b[43m \u001b[49m\u001b[43musecols\u001b[49m\u001b[38;5;241;43m=\u001b[39;49m\u001b[43m[\u001b[49m\u001b[38;5;124;43m\"\u001b[39;49m\u001b[38;5;124;43mHomeTeam\u001b[39;49m\u001b[38;5;124;43m\"\u001b[39;49m\u001b[43m]\u001b[49m\u001b[43m,\u001b[49m\u001b[43m \u001b[49m\n\u001b[1;32m     53\u001b[0m \u001b[43m                          \u001b[49m\u001b[43msqueeze\u001b[49m\u001b[38;5;241;43m=\u001b[39;49m\u001b[38;5;28;43;01mTrue\u001b[39;49;00m\u001b[43m)\u001b[49m\n\u001b[1;32m     55\u001b[0m teams \u001b[38;5;241m=\u001b[39m homeTeams\u001b[38;5;241m.\u001b[39msort_values()\u001b[38;5;241m.\u001b[39munique()\n\u001b[1;32m     57\u001b[0m \u001b[38;5;28;01mreturn\u001b[39;00m teams\n",
      "\u001b[0;31mTypeError\u001b[0m: read_csv() got an unexpected keyword argument 'squeeze'"
     ]
    }
   ],
   "source": [
    "E1_1718 = GetTeamStats('E1', '1718', season_dir, eos_stats_path, include_odds=True)"
   ]
  },
  {
   "cell_type": "code",
   "execution_count": 30,
   "id": "d4dd102e-d12d-4b02-9834-ea7b74f9b20b",
   "metadata": {},
   "outputs": [],
   "source": [
    "def getFixtures(league, year, path):\n",
    "    \"\"\"\n",
    "    Get fixture list.\n",
    "\n",
    "    Parameters\n",
    "    ----------\n",
    "    league - str\n",
    "    year - str\n",
    "    \"\"\"\n",
    "    full_path = path + \"/\" + league + \"_\" + year + \".csv\"\n",
    "    df = pd.read_csv(full_path, usecols = ['Date', 'HomeTeam', 'AwayTeam'])\n",
    "\n",
    "    return df"
   ]
  },
  {
   "cell_type": "code",
   "execution_count": 31,
   "id": "0a84ccae-d59e-4d4b-83cf-ec1531f13b3a",
   "metadata": {},
   "outputs": [],
   "source": [
    "fixtures = getFixtures(\"E1\", \"1718\", season_dir)"
   ]
  },
  {
   "cell_type": "code",
   "execution_count": 33,
   "id": "b2c6046c-269e-4d6a-a71a-dda83dc17f34",
   "metadata": {},
   "outputs": [],
   "source": [
    "def getRawPath(league, year, path):\n",
    "    \"\"\"\n",
    "    Utility function\n",
    "    \"\"\"\n",
    "    full_path = path + \"/\" + league + \"_\" + year + \".csv\"\n",
    "    return full_path\n",
    "    "
   ]
  },
  {
   "cell_type": "code",
   "execution_count": 34,
   "id": "ecac49e0-e6f6-4d25-9cf8-d0be0a1dad45",
   "metadata": {},
   "outputs": [
    {
     "data": {
      "text/html": [
       "<div>\n",
       "<style scoped>\n",
       "    .dataframe tbody tr th:only-of-type {\n",
       "        vertical-align: middle;\n",
       "    }\n",
       "\n",
       "    .dataframe tbody tr th {\n",
       "        vertical-align: top;\n",
       "    }\n",
       "\n",
       "    .dataframe thead th {\n",
       "        text-align: right;\n",
       "    }\n",
       "</style>\n",
       "<table border=\"1\" class=\"dataframe\">\n",
       "  <thead>\n",
       "    <tr style=\"text-align: right;\">\n",
       "      <th></th>\n",
       "      <th>Date</th>\n",
       "      <th>HomeTeam</th>\n",
       "      <th>AwayTeam</th>\n",
       "    </tr>\n",
       "  </thead>\n",
       "  <tbody>\n",
       "    <tr>\n",
       "      <th>0</th>\n",
       "      <td>04/08/17</td>\n",
       "      <td>Nott'm Forest</td>\n",
       "      <td>Millwall</td>\n",
       "    </tr>\n",
       "    <tr>\n",
       "      <th>1</th>\n",
       "      <td>04/08/17</td>\n",
       "      <td>Sunderland</td>\n",
       "      <td>Derby</td>\n",
       "    </tr>\n",
       "    <tr>\n",
       "      <th>2</th>\n",
       "      <td>05/08/17</td>\n",
       "      <td>Aston Villa</td>\n",
       "      <td>Hull</td>\n",
       "    </tr>\n",
       "    <tr>\n",
       "      <th>3</th>\n",
       "      <td>05/08/17</td>\n",
       "      <td>Bristol City</td>\n",
       "      <td>Barnsley</td>\n",
       "    </tr>\n",
       "    <tr>\n",
       "      <th>4</th>\n",
       "      <td>05/08/17</td>\n",
       "      <td>Burton</td>\n",
       "      <td>Cardiff</td>\n",
       "    </tr>\n",
       "  </tbody>\n",
       "</table>\n",
       "</div>"
      ],
      "text/plain": [
       "       Date       HomeTeam  AwayTeam\n",
       "0  04/08/17  Nott'm Forest  Millwall\n",
       "1  04/08/17     Sunderland     Derby\n",
       "2  05/08/17    Aston Villa      Hull\n",
       "3  05/08/17   Bristol City  Barnsley\n",
       "4  05/08/17         Burton   Cardiff"
      ]
     },
     "execution_count": 34,
     "metadata": {},
     "output_type": "execute_result"
    }
   ],
   "source": [
    "fixtures.head()"
   ]
  },
  {
   "cell_type": "code",
   "execution_count": 35,
   "id": "4b198fba-3e42-4e3f-b5b3-e0fb5fceb772",
   "metadata": {},
   "outputs": [],
   "source": [
    "def getTeamList(df_fix):\n",
    "    return fixtures['HomeTeam'].unique().copy()"
   ]
  },
  {
   "cell_type": "code",
   "execution_count": 36,
   "id": "874a727e-f391-407f-a25a-f91138031366",
   "metadata": {},
   "outputs": [],
   "source": [
    "teams = getTeamList(fixtures)"
   ]
  },
  {
   "cell_type": "code",
   "execution_count": 37,
   "id": "cdf4511c-2a31-40bd-9f7a-88953b587afd",
   "metadata": {},
   "outputs": [
    {
     "data": {
      "text/plain": [
       "array([\"Nott'm Forest\", 'Sunderland', 'Aston Villa', 'Bristol City',\n",
       "       'Burton', 'Fulham', 'Ipswich', 'Preston', 'QPR',\n",
       "       'Sheffield United', 'Wolves', 'Bolton', 'Barnsley', 'Birmingham',\n",
       "       'Brentford', 'Cardiff', 'Derby', 'Hull', 'Leeds', 'Middlesbrough',\n",
       "       'Millwall', 'Reading', 'Sheffield Weds', 'Norwich'], dtype=object)"
      ]
     },
     "execution_count": 37,
     "metadata": {},
     "output_type": "execute_result"
    }
   ],
   "source": [
    "teams"
   ]
  },
  {
   "cell_type": "code",
   "execution_count": null,
   "id": "45c09631-d9f7-4395-ac58-f8c2cd649f4f",
   "metadata": {},
   "outputs": [],
   "source": [
    "class Season:\n",
    "    def __init__(self, league, year, path):\n",
    "        self.league = league\n",
    "        self.year = year\n",
    "        self.path = path\n",
    "        self.full_path = getRawPath(league, year, path)\n",
    "\n",
    "        self.season_data = None\n",
    "\n",
    "    def load(self):\n",
    "        self.season_data = pd.read_csv(self.full_path)\n",
    "\n",
    "    def getStats(self):\n",
    "\n",
    "    def _createColMaps(self):\n",
    "        if self.season_data is\n",
    "        None:\n",
    "            self.load()\n",
    "        \n",
    "        homeCols = ['Date', 'HomeTeam', 'FTHG', 'FTAG', 'FTR', 'HS', 'AS',\n",
    "                   'HST', 'AST', 'HF', 'AF', 'HC', 'AC', 'HY', 'AY', 'HR', 'AR']\n",
    "\n",
    "        awayCols = ['Date', 'AwayTeam', 'FTHG', 'FTAG', 'FTR', 'HS', 'AS',\n",
    "                   'HST', 'AST', 'HF', 'AF', 'HC', 'AC', 'HY', 'AY', 'HR', 'AR']\n",
    "\n",
    "    def _createColMap(self, cols, is_home):\n",
    "        if is_home:\n",
    "            map = {\"H\": \"_f\", \"A\": \"_ag\"}\n",
    "            teamCol = \"HomeTeam\"\n",
    "        else:\n",
    "            map = {\"H\": \"_ag\", \"A\": \"_f\"}\n",
    "            teamCol = \"AwayTeam\"\n",
    "        \n",
    "        \n",
    "        newCols = []\n",
    "        for col in cols:\n",
    "            index = 0\n",
    "            if col in [\"Date\", \"HomeTeam\", \"AwayTeam\", \"FTR\"]:\n",
    "                if col == teamCol:\n",
    "                    newCols.append(\"Team\")\n",
    "                else:\n",
    "                    newCols.append(col)\n",
    "                continue\n",
    "            else:\n",
    "                if col[0] == \"F\":\n",
    "                    index = 2\n",
    "                newCols.append(col[index + 1:] + map[col[index]])\n",
    "    \n",
    "        return dict(zip(cols, newCols))\n",
    "        "
   ]
  }
 ],
 "metadata": {
  "kernelspec": {
   "display_name": "Python 3 (ipykernel)",
   "language": "python",
   "name": "python3"
  },
  "language_info": {
   "codemirror_mode": {
    "name": "ipython",
    "version": 3
   },
   "file_extension": ".py",
   "mimetype": "text/x-python",
   "name": "python",
   "nbconvert_exporter": "python",
   "pygments_lexer": "ipython3",
   "version": "3.11.9"
  }
 },
 "nbformat": 4,
 "nbformat_minor": 5
}
