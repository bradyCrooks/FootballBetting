{
 "cells": [
  {
   "cell_type": "code",
   "execution_count": 1,
   "id": "707d253b",
   "metadata": {},
   "outputs": [],
   "source": [
    "import sys\n",
    "from sklearn.metrics import roc_auc_score, log_loss\n",
    "from sklearn.model_selection import train_test_split\n",
    "import pandas as pd\n",
    "import xgboost as xgb\n",
    "\n",
    "sys.path.append(\"C:\\\\Users\\\\brady\\\\Documents\\\\FootballBetting\\\\FootballBetting\\\\processing\")\n",
    "\n",
    "from get_season_stats import GetTeamStats, get_multi_seasons\n",
    "\n",
    "season_dir='C:\\\\Users\\\\brady\\\\Documents\\\\FootballBetting\\\\FootballBetting\\\\data\\\\results'\n",
    "eos_stats_path='C:\\\\Users\\\\brady\\\\Documents\\\\FootballBetting\\\\FootballBetting\\\\data\\\\eos_stats\\\\SeasonSummaries.csv'"
   ]
  },
  {
   "cell_type": "code",
   "execution_count": 2,
   "id": "425ab214",
   "metadata": {},
   "outputs": [],
   "source": [
    "E1_1718 = GetTeamStats('E1', '1718', season_dir, eos_stats_path, include_odds=True)"
   ]
  },
  {
   "cell_type": "code",
   "execution_count": 3,
   "id": "0ab05637",
   "metadata": {},
   "outputs": [],
   "source": [
    "test = []\n",
    "for i in range(3):\n",
    "    test.append(GetTeamStats('E{}'.format(i), '1718', season_dir, eos_stats_path, include_odds=True).getFixAndStats())\n"
   ]
  },
  {
   "cell_type": "code",
   "execution_count": 4,
   "id": "bac4a2da",
   "metadata": {},
   "outputs": [
    {
     "data": {
      "text/html": [
       "<div>\n",
       "<style scoped>\n",
       "    .dataframe tbody tr th:only-of-type {\n",
       "        vertical-align: middle;\n",
       "    }\n",
       "\n",
       "    .dataframe tbody tr th {\n",
       "        vertical-align: top;\n",
       "    }\n",
       "\n",
       "    .dataframe thead th {\n",
       "        text-align: right;\n",
       "    }\n",
       "</style>\n",
       "<table border=\"1\" class=\"dataframe\">\n",
       "  <thead>\n",
       "    <tr style=\"text-align: right;\">\n",
       "      <th></th>\n",
       "      <th>Date</th>\n",
       "      <th>HomeTeam</th>\n",
       "      <th>AwayTeam</th>\n",
       "      <th>B365H</th>\n",
       "      <th>B365D</th>\n",
       "      <th>B365A</th>\n",
       "      <th>BWH</th>\n",
       "      <th>BWD</th>\n",
       "      <th>BWA</th>\n",
       "      <th>IWH</th>\n",
       "      <th>...</th>\n",
       "      <th>At_Conceded_A</th>\n",
       "      <th>At_Shots_For_A</th>\n",
       "      <th>At_Shots_Ag_A</th>\n",
       "      <th>At_Shots_Tg_For_A</th>\n",
       "      <th>At_Shots_Tg_Ag_A</th>\n",
       "      <th>At_Fouls_For_A</th>\n",
       "      <th>At_Fouls_Ag_A</th>\n",
       "      <th>At_Bk_Pts_A</th>\n",
       "      <th>At_Promoted</th>\n",
       "      <th>At_Relegated</th>\n",
       "    </tr>\n",
       "  </thead>\n",
       "  <tbody>\n",
       "    <tr>\n",
       "      <th>0</th>\n",
       "      <td>11/08/17</td>\n",
       "      <td>Arsenal</td>\n",
       "      <td>Leicester</td>\n",
       "      <td>1.53</td>\n",
       "      <td>4.50</td>\n",
       "      <td>6.50</td>\n",
       "      <td>1.50</td>\n",
       "      <td>4.60</td>\n",
       "      <td>6.75</td>\n",
       "      <td>1.47</td>\n",
       "      <td>...</td>\n",
       "      <td>38.0</td>\n",
       "      <td>192.0</td>\n",
       "      <td>297.0</td>\n",
       "      <td>62.0</td>\n",
       "      <td>100.0</td>\n",
       "      <td>250.0</td>\n",
       "      <td>164.0</td>\n",
       "      <td>435.0</td>\n",
       "      <td>0</td>\n",
       "      <td>0</td>\n",
       "    </tr>\n",
       "    <tr>\n",
       "      <th>1</th>\n",
       "      <td>31/03/18</td>\n",
       "      <td>Brighton</td>\n",
       "      <td>Leicester</td>\n",
       "      <td>2.70</td>\n",
       "      <td>3.20</td>\n",
       "      <td>2.62</td>\n",
       "      <td>2.70</td>\n",
       "      <td>3.10</td>\n",
       "      <td>2.80</td>\n",
       "      <td>2.75</td>\n",
       "      <td>...</td>\n",
       "      <td>38.0</td>\n",
       "      <td>192.0</td>\n",
       "      <td>297.0</td>\n",
       "      <td>62.0</td>\n",
       "      <td>100.0</td>\n",
       "      <td>250.0</td>\n",
       "      <td>164.0</td>\n",
       "      <td>435.0</td>\n",
       "      <td>0</td>\n",
       "      <td>0</td>\n",
       "    </tr>\n",
       "    <tr>\n",
       "      <th>2</th>\n",
       "      <td>13/01/18</td>\n",
       "      <td>Chelsea</td>\n",
       "      <td>Leicester</td>\n",
       "      <td>1.30</td>\n",
       "      <td>5.75</td>\n",
       "      <td>12.00</td>\n",
       "      <td>1.26</td>\n",
       "      <td>5.75</td>\n",
       "      <td>11.50</td>\n",
       "      <td>1.33</td>\n",
       "      <td>...</td>\n",
       "      <td>38.0</td>\n",
       "      <td>192.0</td>\n",
       "      <td>297.0</td>\n",
       "      <td>62.0</td>\n",
       "      <td>100.0</td>\n",
       "      <td>250.0</td>\n",
       "      <td>164.0</td>\n",
       "      <td>435.0</td>\n",
       "      <td>0</td>\n",
       "      <td>0</td>\n",
       "    </tr>\n",
       "    <tr>\n",
       "      <th>3</th>\n",
       "      <td>28/04/18</td>\n",
       "      <td>Crystal Palace</td>\n",
       "      <td>Leicester</td>\n",
       "      <td>2.04</td>\n",
       "      <td>3.60</td>\n",
       "      <td>3.79</td>\n",
       "      <td>2.05</td>\n",
       "      <td>3.30</td>\n",
       "      <td>3.80</td>\n",
       "      <td>2.00</td>\n",
       "      <td>...</td>\n",
       "      <td>38.0</td>\n",
       "      <td>192.0</td>\n",
       "      <td>297.0</td>\n",
       "      <td>62.0</td>\n",
       "      <td>100.0</td>\n",
       "      <td>250.0</td>\n",
       "      <td>164.0</td>\n",
       "      <td>435.0</td>\n",
       "      <td>0</td>\n",
       "      <td>0</td>\n",
       "    </tr>\n",
       "    <tr>\n",
       "      <th>4</th>\n",
       "      <td>31/01/18</td>\n",
       "      <td>Everton</td>\n",
       "      <td>Leicester</td>\n",
       "      <td>3.00</td>\n",
       "      <td>3.20</td>\n",
       "      <td>2.62</td>\n",
       "      <td>2.95</td>\n",
       "      <td>3.10</td>\n",
       "      <td>2.55</td>\n",
       "      <td>2.70</td>\n",
       "      <td>...</td>\n",
       "      <td>38.0</td>\n",
       "      <td>192.0</td>\n",
       "      <td>297.0</td>\n",
       "      <td>62.0</td>\n",
       "      <td>100.0</td>\n",
       "      <td>250.0</td>\n",
       "      <td>164.0</td>\n",
       "      <td>435.0</td>\n",
       "      <td>0</td>\n",
       "      <td>0</td>\n",
       "    </tr>\n",
       "  </tbody>\n",
       "</table>\n",
       "<p>5 rows × 83 columns</p>\n",
       "</div>"
      ],
      "text/plain": [
       "       Date        HomeTeam   AwayTeam  B365H  B365D  B365A   BWH   BWD  \\\n",
       "0  11/08/17         Arsenal  Leicester   1.53   4.50   6.50  1.50  4.60   \n",
       "1  31/03/18        Brighton  Leicester   2.70   3.20   2.62  2.70  3.10   \n",
       "2  13/01/18         Chelsea  Leicester   1.30   5.75  12.00  1.26  5.75   \n",
       "3  28/04/18  Crystal Palace  Leicester   2.04   3.60   3.79  2.05  3.30   \n",
       "4  31/01/18         Everton  Leicester   3.00   3.20   2.62  2.95  3.10   \n",
       "\n",
       "     BWA   IWH  ...  At_Conceded_A  At_Shots_For_A  At_Shots_Ag_A  \\\n",
       "0   6.75  1.47  ...           38.0           192.0          297.0   \n",
       "1   2.80  2.75  ...           38.0           192.0          297.0   \n",
       "2  11.50  1.33  ...           38.0           192.0          297.0   \n",
       "3   3.80  2.00  ...           38.0           192.0          297.0   \n",
       "4   2.55  2.70  ...           38.0           192.0          297.0   \n",
       "\n",
       "   At_Shots_Tg_For_A  At_Shots_Tg_Ag_A  At_Fouls_For_A  At_Fouls_Ag_A  \\\n",
       "0               62.0             100.0           250.0          164.0   \n",
       "1               62.0             100.0           250.0          164.0   \n",
       "2               62.0             100.0           250.0          164.0   \n",
       "3               62.0             100.0           250.0          164.0   \n",
       "4               62.0             100.0           250.0          164.0   \n",
       "\n",
       "   At_Bk_Pts_A  At_Promoted  At_Relegated  \n",
       "0        435.0            0             0  \n",
       "1        435.0            0             0  \n",
       "2        435.0            0             0  \n",
       "3        435.0            0             0  \n",
       "4        435.0            0             0  \n",
       "\n",
       "[5 rows x 83 columns]"
      ]
     },
     "execution_count": 4,
     "metadata": {},
     "output_type": "execute_result"
    }
   ],
   "source": [
    "test[0].head()"
   ]
  },
  {
   "cell_type": "markdown",
   "id": "f27c875b",
   "metadata": {},
   "source": [
    "# Basic Benchmarking \n",
    "- Bet on home\n",
    "- Measure by accuracy\n",
    "- Single year test"
   ]
  },
  {
   "cell_type": "code",
   "execution_count": 5,
   "id": "b29366c8",
   "metadata": {},
   "outputs": [
    {
     "name": "stdout",
     "output_type": "stream",
     "text": [
      "league 0: 0.3631578947368421\n",
      "league 1: 0.37922705314009664\n",
      "league 2: 0.39473684210526316\n"
     ]
    }
   ],
   "source": [
    "import pandas as pd\n",
    "\n",
    "for i in range(3):\n",
    "    acc = abs(test[i][[\"HomeWin\", \"AwayWin\", \"Draw\"]].values \n",
    "        - pd.DataFrame([[1] * len(test[i]), [0] * len(test[i]), [0] * len(test[i])]).T.values).mean()\n",
    "    \n",
    "    print(\"league {}: {}\".format(i, acc))\n",
    "\n",
    "\n",
    "    "
   ]
  },
  {
   "cell_type": "markdown",
   "id": "2a92214c",
   "metadata": {},
   "source": [
    "## Findings\n",
    "- Better than average\n",
    "- Seems to matter in lower leagues\n",
    "    - Possibly a feature"
   ]
  },
  {
   "cell_type": "markdown",
   "id": "a565370c",
   "metadata": {},
   "source": [
    "# Model V1\n",
    "- Initial GBM model\n",
    "- Use previous season stats to inform prediction\n",
    "\n",
    "## Prep"
   ]
  },
  {
   "cell_type": "code",
   "execution_count": 9,
   "id": "77f94fcc",
   "metadata": {},
   "outputs": [],
   "source": [
    "from importlib import reload\n",
    "from get_season_stats import get_multi_seasons\n",
    "\n",
    "dfs = []\n",
    "for i in range(3):\n",
    "    df = get_multi_seasons(1617, 5, season_dir, eos_stats_path, league='E{}'.format(i))\n",
    "    dfs.append(df)\n",
    "    \n",
    "    "
   ]
  },
  {
   "cell_type": "code",
   "execution_count": 11,
   "id": "5f53f37f",
   "metadata": {},
   "outputs": [],
   "source": [
    "data = pd.concat(dfs)"
   ]
  },
  {
   "cell_type": "code",
   "execution_count": 13,
   "id": "4160e4dd",
   "metadata": {},
   "outputs": [],
   "source": [
    "X = data.loc[:,'Ht_Position':]\n",
    "y = data.loc[:, ['HomeWin', \"AwayWin\", \"Draw\"]]"
   ]
  },
  {
   "cell_type": "code",
   "execution_count": 20,
   "id": "06e5eed0",
   "metadata": {},
   "outputs": [
    {
     "data": {
      "text/plain": [
       "array([1, 1, 2, ..., 0, 1, 1], dtype=int64)"
      ]
     },
     "execution_count": 20,
     "metadata": {},
     "output_type": "execute_result"
    }
   ],
   "source": [
    "import numpy as np\n",
    "np.argmax(y.values, axis=1)"
   ]
  },
  {
   "cell_type": "code",
   "execution_count": 22,
   "id": "2ea19ec7",
   "metadata": {},
   "outputs": [
    {
     "data": {
      "text/plain": [
       "LGBMClassifier()"
      ]
     },
     "execution_count": 22,
     "metadata": {},
     "output_type": "execute_result"
    }
   ],
   "source": [
    "import lightgbm as lgb\n",
    "\n",
    "clf = lgb.LGBMClassifier()\n",
    "clf.fit(X.values, np.argmax(y.values, axis=1))"
   ]
  },
  {
   "cell_type": "code",
   "execution_count": 25,
   "id": "00b31813",
   "metadata": {},
   "outputs": [
    {
     "name": "stdout",
     "output_type": "stream",
     "text": [
      "league 0: 0.3907025243967549\n",
      "league 1: 0.4315312866949245\n",
      "league 2: 0.4402638429966812\n"
     ]
    }
   ],
   "source": [
    "for i in range(3):\n",
    "    y_test = test[i][[\"HomeWin\", \"AwayWin\", \"Draw\"]].values \n",
    "    X_test = test[i].loc[:,'Ht_Position':].values\n",
    "    y_pred = clf.predict_proba(X_test)\n",
    "    \n",
    "    acc = abs(y_test - y_pred).mean()\n",
    "    \n",
    "    print(\"league {}: {}\".format(i, acc))"
   ]
  },
  {
   "cell_type": "code",
   "execution_count": 26,
   "id": "edc121a8",
   "metadata": {},
   "outputs": [
    {
     "data": {
      "text/plain": [
       "array([[0.5623484 , 0.22393952, 0.21371208],\n",
       "       [0.45099232, 0.33019656, 0.21881112],\n",
       "       [0.43620943, 0.2451007 , 0.31868987],\n",
       "       ...,\n",
       "       [0.28910269, 0.15653915, 0.55435816],\n",
       "       [0.31284163, 0.43678836, 0.25037001],\n",
       "       [0.61446831, 0.28038688, 0.1051448 ]])"
      ]
     },
     "execution_count": 26,
     "metadata": {},
     "output_type": "execute_result"
    }
   ],
   "source": [
    "y_pred"
   ]
  },
  {
   "cell_type": "code",
   "execution_count": 27,
   "id": "0dfc8789",
   "metadata": {},
   "outputs": [
    {
     "data": {
      "text/plain": [
       "array([[0, 1, 0],\n",
       "       [0, 1, 0],\n",
       "       [1, 0, 0],\n",
       "       ...,\n",
       "       [1, 0, 0],\n",
       "       [0, 0, 1],\n",
       "       [0, 1, 0]], dtype=int64)"
      ]
     },
     "execution_count": 27,
     "metadata": {},
     "output_type": "execute_result"
    }
   ],
   "source": [
    "y_test"
   ]
  },
  {
   "cell_type": "code",
   "execution_count": 34,
   "id": "7f73eaf8",
   "metadata": {},
   "outputs": [
    {
     "data": {
      "image/png": "[encoded data removed]",
      "text/plain": [
       "<Figure size 504x432 with 1 Axes>"
      ]
     },
     "metadata": {
      "needs_background": "light"
     },
     "output_type": "display_data"
    }
   ],
   "source": [
    "import matplotlib.pyplot as plt\n",
    "lgb.plot_importance(clf, importance_type=\"gain\", figsize=(7,6), title=\"LightGBM Feature Importance (Gain)\")\n",
    "plt.show()"
   ]
  }
 ],
 "metadata": {
  "kernelspec": {
   "display_name": "Python 3 (ipykernel)",
   "language": "python",
   "name": "python3"
  },
  "language_info": {
   "codemirror_mode": {
    "name": "ipython",
    "version": 3
   },
   "file_extension": ".py",
   "mimetype": "text/x-python",
   "name": "python",
   "nbconvert_exporter": "python",
   "pygments_lexer": "ipython3",
   "version": "3.11.9"
  }
 },
 "nbformat": 4,
 "nbformat_minor": 5
}
