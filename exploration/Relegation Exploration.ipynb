{
 "cells": [
  {
   "cell_type": "code",
   "execution_count": 1,
   "metadata": {
    "collapsed": true
   },
   "outputs": [],
   "source": [
    "import pandas as pd\n",
    "df = pd.read_csv('SeasonSummaries.csv')"
   ]
  },
  {
   "cell_type": "code",
   "execution_count": 2,
   "metadata": {},
   "outputs": [
    {
     "name": "stdout",
     "output_type": "stream",
     "text": [
      "              Team League  Season  Position  Points   Win  Draw  Loss  Scored  \\\n",
      "17       Blackpool     E0    1011        18    39.0  10.0   9.0  19.0    55.0   \n",
      "18      Birmingham     E0    1011        19    39.0   8.0  15.0  15.0    37.0   \n",
      "19        West Ham     E0    1011        20    33.0   7.0  12.0  19.0    43.0   \n",
      "37          Bolton     E0    1112        18    36.0  10.0   6.0  22.0    46.0   \n",
      "38       Blackburn     E0    1112        19    31.0   8.0   7.0  23.0    48.0   \n",
      "39          Wolves     E0    1112        20    25.0   5.0  10.0  23.0    40.0   \n",
      "57           Wigan     E0    1213        18    36.0   9.0   9.0  20.0    47.0   \n",
      "58         Reading     E0    1213        19    28.0   6.0  10.0  22.0    43.0   \n",
      "59             QPR     E0    1213        20    25.0   4.0  13.0  21.0    30.0   \n",
      "77         Norwich     E0    1314        18    33.0   8.0   9.0  21.0    28.0   \n",
      "78          Fulham     E0    1314        19    32.0   9.0   5.0  24.0    40.0   \n",
      "79         Cardiff     E0    1314        20    30.0   7.0   9.0  22.0    32.0   \n",
      "97            Hull     E0    1415        18    35.0   8.0  11.0  19.0    33.0   \n",
      "98         Burnley     E0    1415        19    33.0   7.0  12.0  19.0    28.0   \n",
      "99             QPR     E0    1415        20    30.0   8.0   6.0  24.0    42.0   \n",
      "117      Newcastle     E0    1516        18    37.0   9.0  10.0  19.0    44.0   \n",
      "118        Norwich     E0    1516        19    34.0   9.0   7.0  22.0    39.0   \n",
      "119    Aston Villa     E0    1516        20    17.0   3.0   8.0  27.0    27.0   \n",
      "137           Hull     E0    1617        18    34.0   9.0   7.0  22.0    37.0   \n",
      "138  Middlesbrough     E0    1617        19    28.0   5.0  13.0  20.0    27.0   \n",
      "139     Sunderland     E0    1617        20    24.0   6.0   6.0  26.0    29.0   \n",
      "\n",
      "     Conceded    ...     Loss_A  Scored_A  Conceded_A  Shots_For_A  \\\n",
      "17       78.0    ...       10.0      25.0        41.0        193.0   \n",
      "18       58.0    ...       10.0      18.0        36.0        145.0   \n",
      "19       70.0    ...       10.0      19.0        39.0        211.0   \n",
      "37       77.0    ...       11.0      23.0        38.0        213.0   \n",
      "38       78.0    ...       11.0      22.0        45.0        158.0   \n",
      "39       82.0    ...       10.0      21.0        39.0        175.0   \n",
      "57       73.0    ...       11.0      21.0        34.0        212.0   \n",
      "58       73.0    ...       15.0      20.0        40.0        190.0   \n",
      "59       60.0    ...       12.0      17.0        32.0        200.0   \n",
      "77       62.0    ...       14.0      11.0        44.0        199.0   \n",
      "78       85.0    ...       13.0      16.0        47.0        165.0   \n",
      "79       74.0    ...       13.0      12.0        39.0        191.0   \n",
      "97       51.0    ...       10.0      14.0        27.0        186.0   \n",
      "98       53.0    ...       11.0      14.0        32.0        197.0   \n",
      "99       73.0    ...       16.0      19.0        49.0        225.0   \n",
      "117      65.0    ...       14.0      12.0        41.0        170.0   \n",
      "118      67.0    ...       14.0      13.0        37.0        184.0   \n",
      "119      76.0    ...       15.0      13.0        41.0        162.0   \n",
      "137      80.0    ...       15.0       9.0        45.0        188.0   \n",
      "138      53.0    ...       11.0      10.0        30.0        144.0   \n",
      "139      69.0    ...       15.0      13.0        35.0        173.0   \n",
      "\n",
      "     Shots_Ag_A  Shots_Tg_For_A  Shots_Tg_Ag_A  Fouls_For_A  Fouls_Ag_A  \\\n",
      "17        370.0           101.0          201.0        187.0       185.0   \n",
      "18        304.0            78.0          185.0        207.0       211.0   \n",
      "19        302.0           107.0          173.0        211.0       187.0   \n",
      "37        322.0           123.0          172.0        206.0       169.0   \n",
      "38        314.0            93.0          161.0        201.0       168.0   \n",
      "39        309.0            97.0          189.0        182.0       190.0   \n",
      "57        279.0           120.0          155.0        204.0       209.0   \n",
      "58        362.0            94.0          212.0        190.0       195.0   \n",
      "59        302.0           112.0          182.0        207.0       194.0   \n",
      "77        343.0            69.0          118.0        211.0       194.0   \n",
      "78        387.0            55.0          146.0        197.0       198.0   \n",
      "79        374.0            52.0          115.0        175.0       182.0   \n",
      "97        271.0            53.0           83.0        222.0       194.0   \n",
      "98        337.0            55.0          108.0        194.0       217.0   \n",
      "99        337.0            61.0          121.0        225.0       200.0   \n",
      "117       298.0            61.0           96.0        212.0       184.0   \n",
      "118       278.0            58.0           99.0        216.0       141.0   \n",
      "119       283.0            49.0           99.0        237.0       183.0   \n",
      "137       314.0            58.0          103.0        184.0       193.0   \n",
      "138       313.0            41.0          105.0        268.0       208.0   \n",
      "139       389.0            55.0          132.0        216.0       203.0   \n",
      "\n",
      "     Bk_Pts_A  \n",
      "17      300.0  \n",
      "18      355.0  \n",
      "19      385.0  \n",
      "37      355.0  \n",
      "38      390.0  \n",
      "39      365.0  \n",
      "57      430.0  \n",
      "58      240.0  \n",
      "59      395.0  \n",
      "77      385.0  \n",
      "78      275.0  \n",
      "79      265.0  \n",
      "97      505.0  \n",
      "98      360.0  \n",
      "99      440.0  \n",
      "117     285.0  \n",
      "118     395.0  \n",
      "119     450.0  \n",
      "137     425.0  \n",
      "138     405.0  \n",
      "139     460.0  \n",
      "\n",
      "[21 rows x 41 columns]\n"
     ]
    }
   ],
   "source": [
    "# get all relegated teams\n",
    "rel = df[(df['League'] == 'E0') & (df['Position'] > 17) & (df['Season'] != 1718)].copy()\n",
    "print(rel)"
   ]
  },
  {
   "cell_type": "code",
   "execution_count": 3,
   "metadata": {},
   "outputs": [
    {
     "name": "stdout",
     "output_type": "stream",
     "text": [
      "             Team  Position_x  Position_y\n",
      "0       Blackpool          18           5\n",
      "81      Newcastle          18           1\n",
      "75           Hull          18          18\n",
      "69           Hull          18           4\n",
      "27          Wigan          18           5\n",
      "48        Norwich          18           3\n",
      "12         Bolton          18           7\n",
      "17      Blackburn          19          18\n",
      "32        Reading          19           7\n",
      "90  Middlesbrough          19           5\n",
      "53        Norwich          19           8\n",
      "55         Fulham          19          17\n",
      "80        Burnley          19           1\n",
      "4      Birmingham          19           4\n",
      "38            QPR          20           4\n",
      "44            QPR          20          12\n",
      "62        Cardiff          20          11\n",
      "11       West Ham          20           3\n",
      "82    Aston Villa          20          11\n",
      "22         Wolves          20          23\n",
      "91     Sunderland          20          24\n"
     ]
    }
   ],
   "source": [
    "rel_2 = rel.merge(df[df.League == 'E1'][['Team', 'Season', 'Position', 'Points']], on = 'Team')\n",
    "rel_2 = rel_2[rel_2.Season_x == rel_2.Season_y - 101]\n",
    "print(rel_2[['Team','Position_x', 'Position_y']].sort_values('Position_x'))"
   ]
  },
  {
   "cell_type": "code",
   "execution_count": 5,
   "metadata": {
    "collapsed": true
   },
   "outputs": [],
   "source": [
    "%matplotlib inline\n",
    "import matplotlib\n",
    "import matplotlib.pyplot as plt\n",
    "import seaborn as sns"
   ]
  },
  {
   "cell_type": "code",
   "execution_count": 6,
   "metadata": {},
   "outputs": [
    {
     "data": {
      "image/png": "[encoded data removed]",
      "text/plain": [
       "<matplotlib.figure.Figure at 0x215916f95f8>"
      ]
     },
     "metadata": {},
     "output_type": "display_data"
    }
   ],
   "source": [
    "sns.swarmplot(x='Points_x', y='Points_y', data = rel_2)\n",
    "#plt.ylim(24, 0)\n",
    "plt.show()"
   ]
  }
 ],
 "metadata": {
  "kernelspec": {
   "display_name": "Python 3",
   "language": "python",
   "name": "python3"
  },
  "language_info": {
   "codemirror_mode": {
    "name": "ipython",
    "version": 3
   },
   "file_extension": ".py",
   "mimetype": "text/x-python",
   "name": "python",
   "nbconvert_exporter": "python",
   "pygments_lexer": "ipython3",
   "version": "3.6.3"
  }
 },
 "nbformat": 4,
 "nbformat_minor": 2
}
